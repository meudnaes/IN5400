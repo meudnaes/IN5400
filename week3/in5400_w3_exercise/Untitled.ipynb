{
 "cells": [
  {
   "cell_type": "markdown",
   "metadata": {},
   "source": [
    "## Oppgave 2\n",
    "\n",
    "Underkritisk system: $z(t) = e^{-\\gamma t} A \\cos(\\omega t + \\phi)$\n",
    "\n",
    "$\\omega^2 = \\omega_0^2 - \\gamma^2$"
   ]
  },
  {
   "cell_type": "markdown",
   "metadata": {},
   "source": [
    "$\\gamma^2 = \\frac{b^2}{4m^2}$ og  $\\,\\, \\omega_0^2 = \\frac{k}{m}$\n",
    "\n",
    "$b^2 = 4m^2(\\omega_0^2 - \\omega^2)$\n",
    "\n",
    "$\\omega = 2\\pi f$"
   ]
  },
  {
   "cell_type": "markdown",
   "metadata": {},
   "source": [
    "\n",
    "\n",
    "\n",
    "$\\omega^2 - \\omega_0^2 = \\frac{b^2}{4m^2} \\propto \\frac{1}{m^2}$"
   ]
  },
  {
   "cell_type": "markdown",
   "metadata": {},
   "source": [
    "## Oppgave 3\n",
    "\n",
    "$f(t) = e^{-\\gamma t} A \\cos(\\omega t)$\n",
    "\n",
    "$\\cos (x) \\in [-1, 1]$\n",
    "\n",
    "$f(t=0) = Ae^{-\\gamma*0} = 1$\n",
    "\n",
    "$A = 1$\n",
    "\n",
    "$f(t = 5,5) = e^{-\\gamma*5,5} = 0,25$\n",
    "\n",
    "$-5,5\\gamma = \\ln 0,25 \\Rightarrow \\gamma \\approx 0,25$\n",
    "\n",
    "$b = 2\\gamma m$\n",
    "\n",
    "$T = 2,25 \\Rightarrow \\omega^{'2} = \\frac{2\\pi}{2,25}$ \n",
    "\n",
    "$\\omega^{'2} = \\frac{k}{m} = \\omega - \\gamma^2$"
   ]
  },
  {
   "cell_type": "markdown",
   "metadata": {},
   "source": [
    "## Oppgave 4\n",
    "\n",
    "På månen: $mg = kx \\Rightarrow k = 20\\, 000$ kg/s\n",
    "\n",
    "$b = 2\\gamma m = 2\\sqrt{k m} = 20\\, 000$ kg/s\n",
    "\n",
    "I likevekt: $\\sum F = 0 \\Rightarrow k (L_1 - L_0) - mg = 0$\n",
    "\n",
    "$mg = k(L_1 - L_0) = k\\Delta L$\n",
    "\n",
    "Likevektsposisjon på Mars: $L_0 = mg/k = 0,925$ m\n",
    "\n",
    "$F(t) = k(L(t) - L_0) - mg = k(L(t) - L_0) - k (L_1 - L_0) = k(L(t) - L_1)$\n",
    "\n",
    "Definer $-x(t) = L(t) - L_1$\n",
    "\n",
    "$F(t) = -kx(t)$\n",
    "\n",
    "Vi kan fjerne $mg$ fra likningen og får dermed den vanlige løsningen.\n",
    "\n",
    "Kritisk dempet system:\n",
    "\n",
    "$x(t) = (A + Bt)e^{-\\gamma t}$\n",
    "\n",
    "$x(t=0) = A = L_0 = 0.925$ m\n",
    "\n",
    "$v(t=0) = v_0 = B - \\gamma A $"
   ]
  },
  {
   "cell_type": "code",
   "execution_count": 3,
   "metadata": {},
   "outputs": [
    {
     "data": {
      "image/png": "[encoded data removed]",
      "text/plain": [
       "<Figure size 432x288 with 1 Axes>"
      ]
     },
     "metadata": {
      "needs_background": "light"
     },
     "output_type": "display_data"
    }
   ],
   "source": [
    "import numpy as np\n",
    "import matplotlib.pyplot as plt\n",
    "\n",
    "L_1 = 0.925\n",
    "m = 5000\n",
    "b = 20000\n",
    "gamma = b/(2*m)\n",
    "A = 0.925\n",
    "B = 2 + gamma*A\n",
    "\n",
    "def x(t):\n",
    "    return (A + B*t)*np.exp(-gamma*t)\n",
    "\n",
    "t = np.linspace(0,5,1000)\n",
    "\n",
    "plt.plot(t, L_1 - x(t))\n",
    "plt.show()"
   ]
  },
  {
   "cell_type": "markdown",
   "metadata": {},
   "source": [
    "$E(t=0) = 0.5*k*1^2 = k/2$ og $E(t=2,25) = 0.5*k*(0,5)^2 = k/8$\n",
    "\n",
    "$Q = 2\\pi \\frac{E}{\\Delta E} = 2\\pi \\frac{k/2}{k/2 - k/8} = 2\\pi \\frac{1}{1 - 1/4} = \\frac{8}{3}\\pi$"
   ]
  },
  {
   "cell_type": "code",
   "execution_count": null,
   "metadata": {},
   "outputs": [],
   "source": []
  }
 ],
 "metadata": {
  "kernelspec": {
   "display_name": "Python 3",
   "language": "python",
   "name": "python3"
  },
  "language_info": {
   "codemirror_mode": {
    "name": "ipython",
    "version": 3
   },
   "file_extension": ".py",
   "mimetype": "text/x-python",
   "name": "python",
   "nbconvert_exporter": "python",
   "pygments_lexer": "ipython3",
   "version": "3.7.6"
  }
 },
 "nbformat": 4,
 "nbformat_minor": 4
}
